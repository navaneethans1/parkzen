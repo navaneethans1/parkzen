{
 "cells": [
  {
   "cell_type": "code",
   "execution_count": 5,
   "metadata": {},
   "outputs": [],
   "source": [
    "import pandas as pd\n",
    "import sqlite3\n",
    "from sqlalchemy import create_engine\n",
    "import random\n",
    "import datetime"
   ]
  },
  {
   "cell_type": "code",
   "execution_count": 29,
   "metadata": {},
   "outputs": [],
   "source": [
    "pd.options.display.max_colwidth = 50"
   ]
  },
  {
   "cell_type": "code",
   "execution_count": 3,
   "metadata": {},
   "outputs": [],
   "source": [
    "engine = create_engine(\"mysql://root@localhost/parkzen\")"
   ]
  },
  {
   "cell_type": "code",
   "execution_count": 27,
   "metadata": {},
   "outputs": [],
   "source": [
    "with engine.connect() as conn, conn.begin():\n",
    "    users = pd.read_sql_table(table_name='auth_user', con=conn)"
   ]
  },
  {
   "cell_type": "code",
   "execution_count": 30,
   "metadata": {},
   "outputs": [
    {
     "data": {
      "text/html": [
       "<div>\n",
       "<style scoped>\n",
       "    .dataframe tbody tr th:only-of-type {\n",
       "        vertical-align: middle;\n",
       "    }\n",
       "\n",
       "    .dataframe tbody tr th {\n",
       "        vertical-align: top;\n",
       "    }\n",
       "\n",
       "    .dataframe thead th {\n",
       "        text-align: right;\n",
       "    }\n",
       "</style>\n",
       "<table border=\"1\" class=\"dataframe\">\n",
       "  <thead>\n",
       "    <tr style=\"text-align: right;\">\n",
       "      <th></th>\n",
       "      <th>id</th>\n",
       "      <th>password</th>\n",
       "      <th>last_login</th>\n",
       "      <th>is_superuser</th>\n",
       "      <th>username</th>\n",
       "      <th>first_name</th>\n",
       "      <th>last_name</th>\n",
       "      <th>email</th>\n",
       "      <th>is_staff</th>\n",
       "      <th>is_active</th>\n",
       "      <th>date_joined</th>\n",
       "    </tr>\n",
       "  </thead>\n",
       "  <tbody>\n",
       "    <tr>\n",
       "      <th>0</th>\n",
       "      <td>1</td>\n",
       "      <td>pbkdf2_sha256$100000$mMR4QmyIZ7A4$i2a8/l0ZvzPA...</td>\n",
       "      <td>2018-05-05 08:39:27.772542</td>\n",
       "      <td>1</td>\n",
       "      <td>navaneethan</td>\n",
       "      <td></td>\n",
       "      <td></td>\n",
       "      <td></td>\n",
       "      <td>1</td>\n",
       "      <td>1</td>\n",
       "      <td>2018-05-05 08:39:07.685361</td>\n",
       "    </tr>\n",
       "    <tr>\n",
       "      <th>1</th>\n",
       "      <td>2</td>\n",
       "      <td>pbkdf2_sha256$100000$Ej8iMPPaqMuP$fQnz1tnOD5Lq...</td>\n",
       "      <td>NaT</td>\n",
       "      <td>0</td>\n",
       "      <td>ankit</td>\n",
       "      <td></td>\n",
       "      <td></td>\n",
       "      <td></td>\n",
       "      <td>0</td>\n",
       "      <td>1</td>\n",
       "      <td>2018-05-05 08:39:43.404826</td>\n",
       "    </tr>\n",
       "    <tr>\n",
       "      <th>2</th>\n",
       "      <td>3</td>\n",
       "      <td>pbkdf2_sha256$100000$OPPxp8HYFZbG$blxWz460JopK...</td>\n",
       "      <td>NaT</td>\n",
       "      <td>0</td>\n",
       "      <td>hruthika</td>\n",
       "      <td></td>\n",
       "      <td></td>\n",
       "      <td></td>\n",
       "      <td>0</td>\n",
       "      <td>1</td>\n",
       "      <td>2018-05-05 08:39:56.681942</td>\n",
       "    </tr>\n",
       "  </tbody>\n",
       "</table>\n",
       "</div>"
      ],
      "text/plain": [
       "   id                                           password  \\\n",
       "0   1  pbkdf2_sha256$100000$mMR4QmyIZ7A4$i2a8/l0ZvzPA...   \n",
       "1   2  pbkdf2_sha256$100000$Ej8iMPPaqMuP$fQnz1tnOD5Lq...   \n",
       "2   3  pbkdf2_sha256$100000$OPPxp8HYFZbG$blxWz460JopK...   \n",
       "\n",
       "                  last_login  is_superuser     username first_name last_name  \\\n",
       "0 2018-05-05 08:39:27.772542             1  navaneethan                        \n",
       "1                        NaT             0        ankit                        \n",
       "2                        NaT             0     hruthika                        \n",
       "\n",
       "  email  is_staff  is_active                date_joined  \n",
       "0               1          1 2018-05-05 08:39:07.685361  \n",
       "1               0          1 2018-05-05 08:39:43.404826  \n",
       "2               0          1 2018-05-05 08:39:56.681942  "
      ]
     },
     "execution_count": 30,
     "metadata": {},
     "output_type": "execute_result"
    }
   ],
   "source": [
    "users"
   ]
  },
  {
   "cell_type": "code",
   "execution_count": 23,
   "metadata": {},
   "outputs": [],
   "source": [
    "with engine.connect() as conn, conn.begin():\n",
    "    lat_lon = pd.read_sql_table(table_name='app_location', con=conn)"
   ]
  },
  {
   "cell_type": "code",
   "execution_count": 24,
   "metadata": {},
   "outputs": [
    {
     "data": {
      "text/plain": [
       "(50, 5)"
      ]
     },
     "execution_count": 24,
     "metadata": {},
     "output_type": "execute_result"
    }
   ],
   "source": [
    "lat_lon.shape"
   ]
  },
  {
   "cell_type": "code",
   "execution_count": 25,
   "metadata": {},
   "outputs": [
    {
     "data": {
      "text/html": [
       "<div>\n",
       "<style scoped>\n",
       "    .dataframe tbody tr th:only-of-type {\n",
       "        vertical-align: middle;\n",
       "    }\n",
       "\n",
       "    .dataframe tbody tr th {\n",
       "        vertical-align: top;\n",
       "    }\n",
       "\n",
       "    .dataframe thead th {\n",
       "        text-align: right;\n",
       "    }\n",
       "</style>\n",
       "<table border=\"1\" class=\"dataframe\">\n",
       "  <thead>\n",
       "    <tr style=\"text-align: right;\">\n",
       "      <th></th>\n",
       "      <th>id</th>\n",
       "      <th>lat</th>\n",
       "      <th>lon</th>\n",
       "      <th>user_id</th>\n",
       "      <th>address</th>\n",
       "    </tr>\n",
       "  </thead>\n",
       "  <tbody>\n",
       "    <tr>\n",
       "      <th>0</th>\n",
       "      <td>1</td>\n",
       "      <td>12.907909</td>\n",
       "      <td>77.607073</td>\n",
       "      <td>2</td>\n",
       "      <td>123 Bannerghatta Road, JP Nagar, Bangalore 560076 Karnataka</td>\n",
       "    </tr>\n",
       "    <tr>\n",
       "      <th>1</th>\n",
       "      <td>2</td>\n",
       "      <td>12.907506</td>\n",
       "      <td>77.607736</td>\n",
       "      <td>3</td>\n",
       "      <td>123 Bannerghatta Road, JP Nagar, Bangalore 560076 Karnataka</td>\n",
       "    </tr>\n",
       "    <tr>\n",
       "      <th>2</th>\n",
       "      <td>3</td>\n",
       "      <td>12.912361</td>\n",
       "      <td>77.602853</td>\n",
       "      <td>1</td>\n",
       "      <td>123 Bannerghatta Road, JP Nagar, Bangalore 560076 Karnataka</td>\n",
       "    </tr>\n",
       "    <tr>\n",
       "      <th>3</th>\n",
       "      <td>4</td>\n",
       "      <td>12.906575</td>\n",
       "      <td>77.602821</td>\n",
       "      <td>3</td>\n",
       "      <td>123 Bannerghatta Road, JP Nagar, Bangalore 560076 Karnataka</td>\n",
       "    </tr>\n",
       "    <tr>\n",
       "      <th>4</th>\n",
       "      <td>5</td>\n",
       "      <td>12.911095</td>\n",
       "      <td>77.599719</td>\n",
       "      <td>1</td>\n",
       "      <td>123 Bannerghatta Road, JP Nagar, Bangalore 560076 Karnataka</td>\n",
       "    </tr>\n",
       "  </tbody>\n",
       "</table>\n",
       "</div>"
      ],
      "text/plain": [
       "   id        lat        lon  user_id  \\\n",
       "0   1  12.907909  77.607073        2   \n",
       "1   2  12.907506  77.607736        3   \n",
       "2   3  12.912361  77.602853        1   \n",
       "3   4  12.906575  77.602821        3   \n",
       "4   5  12.911095  77.599719        1   \n",
       "\n",
       "                                                       address  \n",
       "0  123 Bannerghatta Road, JP Nagar, Bangalore 560076 Karnataka  \n",
       "1  123 Bannerghatta Road, JP Nagar, Bangalore 560076 Karnataka  \n",
       "2  123 Bannerghatta Road, JP Nagar, Bangalore 560076 Karnataka  \n",
       "3  123 Bannerghatta Road, JP Nagar, Bangalore 560076 Karnataka  \n",
       "4  123 Bannerghatta Road, JP Nagar, Bangalore 560076 Karnataka  "
      ]
     },
     "execution_count": 25,
     "metadata": {},
     "output_type": "execute_result"
    }
   ],
   "source": [
    "lat_lon.head()"
   ]
  },
  {
   "cell_type": "code",
   "execution_count": 36,
   "metadata": {},
   "outputs": [],
   "source": [
    "lat_lon_users = pd.merge(left=lat_lon, right=users, left_on='user_id', right_on='id')"
   ]
  },
  {
   "cell_type": "code",
   "execution_count": 38,
   "metadata": {},
   "outputs": [
    {
     "data": {
      "text/plain": [
       "(50, 16)"
      ]
     },
     "execution_count": 38,
     "metadata": {},
     "output_type": "execute_result"
    }
   ],
   "source": [
    "lat_lon_users.shape"
   ]
  },
  {
   "cell_type": "code",
   "execution_count": 39,
   "metadata": {},
   "outputs": [
    {
     "data": {
      "text/html": [
       "<div>\n",
       "<style scoped>\n",
       "    .dataframe tbody tr th:only-of-type {\n",
       "        vertical-align: middle;\n",
       "    }\n",
       "\n",
       "    .dataframe tbody tr th {\n",
       "        vertical-align: top;\n",
       "    }\n",
       "\n",
       "    .dataframe thead th {\n",
       "        text-align: right;\n",
       "    }\n",
       "</style>\n",
       "<table border=\"1\" class=\"dataframe\">\n",
       "  <thead>\n",
       "    <tr style=\"text-align: right;\">\n",
       "      <th></th>\n",
       "      <th>id_x</th>\n",
       "      <th>lat</th>\n",
       "      <th>lon</th>\n",
       "      <th>user_id</th>\n",
       "      <th>address</th>\n",
       "      <th>id_y</th>\n",
       "      <th>password</th>\n",
       "      <th>last_login</th>\n",
       "      <th>is_superuser</th>\n",
       "      <th>username</th>\n",
       "      <th>first_name</th>\n",
       "      <th>last_name</th>\n",
       "      <th>email</th>\n",
       "      <th>is_staff</th>\n",
       "      <th>is_active</th>\n",
       "      <th>date_joined</th>\n",
       "    </tr>\n",
       "  </thead>\n",
       "  <tbody>\n",
       "    <tr>\n",
       "      <th>0</th>\n",
       "      <td>1</td>\n",
       "      <td>12.907909</td>\n",
       "      <td>77.607073</td>\n",
       "      <td>2</td>\n",
       "      <td>123 Bannerghatta Road, JP Nagar, Bangalore 560...</td>\n",
       "      <td>2</td>\n",
       "      <td>pbkdf2_sha256$100000$Ej8iMPPaqMuP$fQnz1tnOD5Lq...</td>\n",
       "      <td>NaT</td>\n",
       "      <td>0</td>\n",
       "      <td>ankit</td>\n",
       "      <td></td>\n",
       "      <td></td>\n",
       "      <td></td>\n",
       "      <td>0</td>\n",
       "      <td>1</td>\n",
       "      <td>2018-05-05 08:39:43.404826</td>\n",
       "    </tr>\n",
       "    <tr>\n",
       "      <th>1</th>\n",
       "      <td>7</td>\n",
       "      <td>12.905191</td>\n",
       "      <td>77.608909</td>\n",
       "      <td>2</td>\n",
       "      <td>123 Bannerghatta Road, JP Nagar, Bangalore 560...</td>\n",
       "      <td>2</td>\n",
       "      <td>pbkdf2_sha256$100000$Ej8iMPPaqMuP$fQnz1tnOD5Lq...</td>\n",
       "      <td>NaT</td>\n",
       "      <td>0</td>\n",
       "      <td>ankit</td>\n",
       "      <td></td>\n",
       "      <td></td>\n",
       "      <td></td>\n",
       "      <td>0</td>\n",
       "      <td>1</td>\n",
       "      <td>2018-05-05 08:39:43.404826</td>\n",
       "    </tr>\n",
       "    <tr>\n",
       "      <th>2</th>\n",
       "      <td>15</td>\n",
       "      <td>12.907084</td>\n",
       "      <td>77.608015</td>\n",
       "      <td>2</td>\n",
       "      <td>123 Bannerghatta Road, JP Nagar, Bangalore 560...</td>\n",
       "      <td>2</td>\n",
       "      <td>pbkdf2_sha256$100000$Ej8iMPPaqMuP$fQnz1tnOD5Lq...</td>\n",
       "      <td>NaT</td>\n",
       "      <td>0</td>\n",
       "      <td>ankit</td>\n",
       "      <td></td>\n",
       "      <td></td>\n",
       "      <td></td>\n",
       "      <td>0</td>\n",
       "      <td>1</td>\n",
       "      <td>2018-05-05 08:39:43.404826</td>\n",
       "    </tr>\n",
       "    <tr>\n",
       "      <th>3</th>\n",
       "      <td>17</td>\n",
       "      <td>12.907424</td>\n",
       "      <td>77.605659</td>\n",
       "      <td>2</td>\n",
       "      <td>123 Bannerghatta Road, JP Nagar, Bangalore 560...</td>\n",
       "      <td>2</td>\n",
       "      <td>pbkdf2_sha256$100000$Ej8iMPPaqMuP$fQnz1tnOD5Lq...</td>\n",
       "      <td>NaT</td>\n",
       "      <td>0</td>\n",
       "      <td>ankit</td>\n",
       "      <td></td>\n",
       "      <td></td>\n",
       "      <td></td>\n",
       "      <td>0</td>\n",
       "      <td>1</td>\n",
       "      <td>2018-05-05 08:39:43.404826</td>\n",
       "    </tr>\n",
       "    <tr>\n",
       "      <th>4</th>\n",
       "      <td>18</td>\n",
       "      <td>12.908196</td>\n",
       "      <td>77.604029</td>\n",
       "      <td>2</td>\n",
       "      <td>123 Bannerghatta Road, JP Nagar, Bangalore 560...</td>\n",
       "      <td>2</td>\n",
       "      <td>pbkdf2_sha256$100000$Ej8iMPPaqMuP$fQnz1tnOD5Lq...</td>\n",
       "      <td>NaT</td>\n",
       "      <td>0</td>\n",
       "      <td>ankit</td>\n",
       "      <td></td>\n",
       "      <td></td>\n",
       "      <td></td>\n",
       "      <td>0</td>\n",
       "      <td>1</td>\n",
       "      <td>2018-05-05 08:39:43.404826</td>\n",
       "    </tr>\n",
       "  </tbody>\n",
       "</table>\n",
       "</div>"
      ],
      "text/plain": [
       "   id_x        lat        lon  user_id  \\\n",
       "0     1  12.907909  77.607073        2   \n",
       "1     7  12.905191  77.608909        2   \n",
       "2    15  12.907084  77.608015        2   \n",
       "3    17  12.907424  77.605659        2   \n",
       "4    18  12.908196  77.604029        2   \n",
       "\n",
       "                                             address  id_y  \\\n",
       "0  123 Bannerghatta Road, JP Nagar, Bangalore 560...     2   \n",
       "1  123 Bannerghatta Road, JP Nagar, Bangalore 560...     2   \n",
       "2  123 Bannerghatta Road, JP Nagar, Bangalore 560...     2   \n",
       "3  123 Bannerghatta Road, JP Nagar, Bangalore 560...     2   \n",
       "4  123 Bannerghatta Road, JP Nagar, Bangalore 560...     2   \n",
       "\n",
       "                                            password last_login  is_superuser  \\\n",
       "0  pbkdf2_sha256$100000$Ej8iMPPaqMuP$fQnz1tnOD5Lq...        NaT             0   \n",
       "1  pbkdf2_sha256$100000$Ej8iMPPaqMuP$fQnz1tnOD5Lq...        NaT             0   \n",
       "2  pbkdf2_sha256$100000$Ej8iMPPaqMuP$fQnz1tnOD5Lq...        NaT             0   \n",
       "3  pbkdf2_sha256$100000$Ej8iMPPaqMuP$fQnz1tnOD5Lq...        NaT             0   \n",
       "4  pbkdf2_sha256$100000$Ej8iMPPaqMuP$fQnz1tnOD5Lq...        NaT             0   \n",
       "\n",
       "  username first_name last_name email  is_staff  is_active  \\\n",
       "0    ankit                                    0          1   \n",
       "1    ankit                                    0          1   \n",
       "2    ankit                                    0          1   \n",
       "3    ankit                                    0          1   \n",
       "4    ankit                                    0          1   \n",
       "\n",
       "                 date_joined  \n",
       "0 2018-05-05 08:39:43.404826  \n",
       "1 2018-05-05 08:39:43.404826  \n",
       "2 2018-05-05 08:39:43.404826  \n",
       "3 2018-05-05 08:39:43.404826  \n",
       "4 2018-05-05 08:39:43.404826  "
      ]
     },
     "execution_count": 39,
     "metadata": {},
     "output_type": "execute_result"
    }
   ],
   "source": [
    "lat_lon_users.head()"
   ]
  },
  {
   "cell_type": "code",
   "execution_count": null,
   "metadata": {},
   "outputs": [],
   "source": [
    "a = {}"
   ]
  },
  {
   "cell_type": "code",
   "execution_count": 52,
   "metadata": {},
   "outputs": [
    {
     "data": {
      "text/plain": [
       "[13, 15, 9]"
      ]
     },
     "execution_count": 52,
     "metadata": {},
     "output_type": "execute_result"
    }
   ],
   "source": [
    "num_slots = 3\n",
    "random.sample(population=range(9, 17), k=num_slots)"
   ]
  },
  {
   "cell_type": "code",
   "execution_count": 47,
   "metadata": {},
   "outputs": [],
   "source": [
    "slots = []\n",
    "year = 2018\n",
    "month = 5\n",
    "minute = 0\n",
    "second = 0\n",
    "for i in range(lat_lon_users.shape[0]):\n",
    "    rate = random.randrange(start=50, stop=1000, step=50)\n",
    "    num_slots = random.randrange(start=1, stop=5)\n",
    "    \n",
    "    start_times = {}\n",
    "    end_times = {}\n",
    "    day = random.randrange(start=6, stop=9)\n",
    "    start_hour = random.sample(population=[range(9, 17)], num_slots)\n",
    "    end_offset = random.randrange(start=1, stop=5)\n",
    "    end_hour = start_hour+end_offset\n",
    "\n",
    "    start_time = datetime.datetime(year, month, day, start_hour, minute, second)\n",
    "    end_time = datetime.datetime(year, month, day, end_hour, minute, second)\n",
    "\n",
    "    slots.append(\n",
    "        (\n",
    "            lat_lon_users.loc[i, 'id_x'],\n",
    "            lat_lon_users.loc[i, 'user_id'],\n",
    "            start_time,\n",
    "            end_time,\n",
    "            rate\n",
    "        )\n",
    "    )"
   ]
  },
  {
   "cell_type": "code",
   "execution_count": 53,
   "metadata": {},
   "outputs": [],
   "source": [
    "one_slot_per_spot = slots"
   ]
  },
  {
   "cell_type": "code",
   "execution_count": 54,
   "metadata": {},
   "outputs": [
    {
     "data": {
      "text/plain": [
       "50"
      ]
     },
     "execution_count": 54,
     "metadata": {},
     "output_type": "execute_result"
    }
   ],
   "source": [
    "len(one_slot_per_spot)"
   ]
  },
  {
   "cell_type": "code",
   "execution_count": 61,
   "metadata": {},
   "outputs": [],
   "source": [
    "one_slot_per_spot_df = pd.DataFrame(one_slot_per_spot, columns=['location_id', 'user_id', 'start', 'end', 'rate'])"
   ]
  },
  {
   "cell_type": "code",
   "execution_count": 63,
   "metadata": {},
   "outputs": [
    {
     "data": {
      "text/html": [
       "<div>\n",
       "<style scoped>\n",
       "    .dataframe tbody tr th:only-of-type {\n",
       "        vertical-align: middle;\n",
       "    }\n",
       "\n",
       "    .dataframe tbody tr th {\n",
       "        vertical-align: top;\n",
       "    }\n",
       "\n",
       "    .dataframe thead th {\n",
       "        text-align: right;\n",
       "    }\n",
       "</style>\n",
       "<table border=\"1\" class=\"dataframe\">\n",
       "  <thead>\n",
       "    <tr style=\"text-align: right;\">\n",
       "      <th></th>\n",
       "      <th>location_id</th>\n",
       "      <th>user_id</th>\n",
       "      <th>start</th>\n",
       "      <th>end</th>\n",
       "      <th>rate</th>\n",
       "    </tr>\n",
       "  </thead>\n",
       "  <tbody>\n",
       "    <tr>\n",
       "      <th>12</th>\n",
       "      <td>45</td>\n",
       "      <td>2</td>\n",
       "      <td>2018-05-06 09:00:00</td>\n",
       "      <td>2018-05-06 10:00:00</td>\n",
       "      <td>150</td>\n",
       "    </tr>\n",
       "    <tr>\n",
       "      <th>49</th>\n",
       "      <td>46</td>\n",
       "      <td>1</td>\n",
       "      <td>2018-05-06 09:00:00</td>\n",
       "      <td>2018-05-06 13:00:00</td>\n",
       "      <td>850</td>\n",
       "    </tr>\n",
       "    <tr>\n",
       "      <th>23</th>\n",
       "      <td>16</td>\n",
       "      <td>3</td>\n",
       "      <td>2018-05-06 10:00:00</td>\n",
       "      <td>2018-05-06 13:00:00</td>\n",
       "      <td>450</td>\n",
       "    </tr>\n",
       "    <tr>\n",
       "      <th>5</th>\n",
       "      <td>19</td>\n",
       "      <td>2</td>\n",
       "      <td>2018-05-08 13:00:00</td>\n",
       "      <td>2018-05-08 14:00:00</td>\n",
       "      <td>50</td>\n",
       "    </tr>\n",
       "    <tr>\n",
       "      <th>22</th>\n",
       "      <td>14</td>\n",
       "      <td>3</td>\n",
       "      <td>2018-05-06 10:00:00</td>\n",
       "      <td>2018-05-06 13:00:00</td>\n",
       "      <td>450</td>\n",
       "    </tr>\n",
       "  </tbody>\n",
       "</table>\n",
       "</div>"
      ],
      "text/plain": [
       "    location_id  user_id               start                 end  rate\n",
       "12           45        2 2018-05-06 09:00:00 2018-05-06 10:00:00   150\n",
       "49           46        1 2018-05-06 09:00:00 2018-05-06 13:00:00   850\n",
       "23           16        3 2018-05-06 10:00:00 2018-05-06 13:00:00   450\n",
       "5            19        2 2018-05-08 13:00:00 2018-05-08 14:00:00    50\n",
       "22           14        3 2018-05-06 10:00:00 2018-05-06 13:00:00   450"
      ]
     },
     "execution_count": 63,
     "metadata": {},
     "output_type": "execute_result"
    }
   ],
   "source": [
    "one_slot_per_spot_df.sample(n=5)"
   ]
  },
  {
   "cell_type": "markdown",
   "metadata": {},
   "source": [
    "## Insert into DB"
   ]
  },
  {
   "cell_type": "code",
   "execution_count": 64,
   "metadata": {},
   "outputs": [],
   "source": [
    "with engine.connect() as conn, conn.begin():\n",
    "    one_slot_per_spot_df.to_sql(name='app_timeslot', con=conn, if_exists='append', index=False)"
   ]
  },
  {
   "cell_type": "markdown",
   "metadata": {},
   "source": [
    "# Scratch"
   ]
  },
  {
   "cell_type": "markdown",
   "metadata": {},
   "source": [
    "## Get lat-long"
   ]
  },
  {
   "cell_type": "code",
   "execution_count": 20,
   "metadata": {},
   "outputs": [],
   "source": [
    "def get_lat_lon_data(fname='../random_lat_long.csv'):\n",
    "    lat_long = pd.read_csv(fname)\n",
    "    lat_long.rename(columns={'id': 'user_id', 'long': 'lon'}, inplace=True)\n",
    "    lat_long.drop(labels='random', inplace=True, axis=1)\n",
    "    lat_long['address'] = ['123 Bannerghatta Road, JP Nagar, Bangalore 560076 Karnataka'] * lat_long.shape[0]\n",
    "\n",
    "    usernames = ['navaneethan', 'ankit', 'hruthika']*17\n",
    "    usernames = usernames[:-1]\n",
    "    random.shuffle(usernames)\n",
    "\n",
    "    username_map = {'navaneethan': 1, 'ankit': 2, 'hruthika': 3}\n",
    "\n",
    "    lat_long['user_id'] = usernames\n",
    "\n",
    "    lat_long['user_id'] = lat_long['user_id'].apply(lambda u: username_map[u])\n",
    "    \n",
    "    return lat_long"
   ]
  },
  {
   "cell_type": "code",
   "execution_count": null,
   "metadata": {},
   "outputs": [],
   "source": [
    "lat_long.head()"
   ]
  },
  {
   "cell_type": "markdown",
   "metadata": {},
   "source": [
    "## This is the old way of doing things - `pandas` does not support it"
   ]
  },
  {
   "cell_type": "markdown",
   "metadata": {},
   "source": [
    "`import MySQLdb`\n",
    "\n",
    "`conn = MySQLdb.connect(host='localhost', user='root', password='')\n",
    "cursor = conn.cursor()\n",
    "cursor.execute('show databases')\n",
    "for database in cursor:\n",
    "    print(database)\n",
    "cursor.execute('use parkzen')\n",
    "cursor.execute('desc app_location')\n",
    "for location in cursor:\n",
    "    print(location)`"
   ]
  }
 ],
 "metadata": {
  "kernelspec": {
   "display_name": "Python 3",
   "language": "python",
   "name": "python3"
  },
  "language_info": {
   "codemirror_mode": {
    "name": "ipython",
    "version": 3
   },
   "file_extension": ".py",
   "mimetype": "text/x-python",
   "name": "python",
   "nbconvert_exporter": "python",
   "pygments_lexer": "ipython3",
   "version": "3.5.2"
  }
 },
 "nbformat": 4,
 "nbformat_minor": 2
}
