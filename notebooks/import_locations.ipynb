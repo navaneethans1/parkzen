{
 "cells": [
  {
   "cell_type": "code",
   "execution_count": 1,
   "metadata": {},
   "outputs": [],
   "source": [
    "import pandas as pd\n",
    "import sqlite3\n",
    "from sqlalchemy import create_engine\n",
    "import random"
   ]
  },
  {
   "cell_type": "code",
   "execution_count": 2,
   "metadata": {},
   "outputs": [],
   "source": [
    "pd.options.display.max_colwidth = 500"
   ]
  },
  {
   "cell_type": "code",
   "execution_count": 3,
   "metadata": {},
   "outputs": [],
   "source": [
    "engine = create_engine(\"mysql://root@localhost/parkzen\")"
   ]
  },
  {
   "cell_type": "markdown",
   "metadata": {},
   "source": [
    "# Get lat-long"
   ]
  },
  {
   "cell_type": "code",
   "execution_count": 4,
   "metadata": {},
   "outputs": [],
   "source": [
    "lat_long = pd.read_csv('../random_lat_long.csv')"
   ]
  },
  {
   "cell_type": "code",
   "execution_count": 5,
   "metadata": {},
   "outputs": [],
   "source": [
    "lat_long.rename(columns={'id': 'user_id', 'long': 'lon'}, inplace=True)"
   ]
  },
  {
   "cell_type": "code",
   "execution_count": 6,
   "metadata": {},
   "outputs": [],
   "source": [
    "lat_long.drop(labels='random', inplace=True, axis=1)"
   ]
  },
  {
   "cell_type": "code",
   "execution_count": 7,
   "metadata": {},
   "outputs": [],
   "source": [
    "lat_long['address'] = ['123 Bannerghatta Road, JP Nagar, Bangalore 560076 Karnataka'] * lat_long.shape[0]"
   ]
  },
  {
   "cell_type": "code",
   "execution_count": 8,
   "metadata": {},
   "outputs": [],
   "source": [
    "usernames = ['navaneethan', 'ankit', 'hruthika']*17\n",
    "usernames = usernames[:-1]\n",
    "random.shuffle(usernames)\n",
    "\n",
    "username_map = {'navaneethan': 1, 'ankit': 2, 'hruthika': 3}"
   ]
  },
  {
   "cell_type": "code",
   "execution_count": 9,
   "metadata": {},
   "outputs": [],
   "source": [
    "lat_long['user_id'] = usernames"
   ]
  },
  {
   "cell_type": "code",
   "execution_count": 10,
   "metadata": {},
   "outputs": [],
   "source": [
    "lat_long['user_id'] = lat_long['user_id'].apply(lambda u: username_map[u])"
   ]
  },
  {
   "cell_type": "code",
   "execution_count": 11,
   "metadata": {},
   "outputs": [
    {
     "data": {
      "text/html": [
       "<div>\n",
       "<style scoped>\n",
       "    .dataframe tbody tr th:only-of-type {\n",
       "        vertical-align: middle;\n",
       "    }\n",
       "\n",
       "    .dataframe tbody tr th {\n",
       "        vertical-align: top;\n",
       "    }\n",
       "\n",
       "    .dataframe thead th {\n",
       "        text-align: right;\n",
       "    }\n",
       "</style>\n",
       "<table border=\"1\" class=\"dataframe\">\n",
       "  <thead>\n",
       "    <tr style=\"text-align: right;\">\n",
       "      <th></th>\n",
       "      <th>user_id</th>\n",
       "      <th>lat</th>\n",
       "      <th>lon</th>\n",
       "      <th>address</th>\n",
       "    </tr>\n",
       "  </thead>\n",
       "  <tbody>\n",
       "    <tr>\n",
       "      <th>0</th>\n",
       "      <td>2</td>\n",
       "      <td>12.907909</td>\n",
       "      <td>77.607073</td>\n",
       "      <td>123 Bannerghatta Road, JP Nagar, Bangalore 560076 Karnataka</td>\n",
       "    </tr>\n",
       "    <tr>\n",
       "      <th>1</th>\n",
       "      <td>3</td>\n",
       "      <td>12.907506</td>\n",
       "      <td>77.607736</td>\n",
       "      <td>123 Bannerghatta Road, JP Nagar, Bangalore 560076 Karnataka</td>\n",
       "    </tr>\n",
       "    <tr>\n",
       "      <th>2</th>\n",
       "      <td>1</td>\n",
       "      <td>12.912361</td>\n",
       "      <td>77.602853</td>\n",
       "      <td>123 Bannerghatta Road, JP Nagar, Bangalore 560076 Karnataka</td>\n",
       "    </tr>\n",
       "    <tr>\n",
       "      <th>3</th>\n",
       "      <td>3</td>\n",
       "      <td>12.906575</td>\n",
       "      <td>77.602821</td>\n",
       "      <td>123 Bannerghatta Road, JP Nagar, Bangalore 560076 Karnataka</td>\n",
       "    </tr>\n",
       "    <tr>\n",
       "      <th>4</th>\n",
       "      <td>1</td>\n",
       "      <td>12.911095</td>\n",
       "      <td>77.599719</td>\n",
       "      <td>123 Bannerghatta Road, JP Nagar, Bangalore 560076 Karnataka</td>\n",
       "    </tr>\n",
       "  </tbody>\n",
       "</table>\n",
       "</div>"
      ],
      "text/plain": [
       "   user_id        lat        lon  \\\n",
       "0        2  12.907909  77.607073   \n",
       "1        3  12.907506  77.607736   \n",
       "2        1  12.912361  77.602853   \n",
       "3        3  12.906575  77.602821   \n",
       "4        1  12.911095  77.599719   \n",
       "\n",
       "                                                       address  \n",
       "0  123 Bannerghatta Road, JP Nagar, Bangalore 560076 Karnataka  \n",
       "1  123 Bannerghatta Road, JP Nagar, Bangalore 560076 Karnataka  \n",
       "2  123 Bannerghatta Road, JP Nagar, Bangalore 560076 Karnataka  \n",
       "3  123 Bannerghatta Road, JP Nagar, Bangalore 560076 Karnataka  \n",
       "4  123 Bannerghatta Road, JP Nagar, Bangalore 560076 Karnataka  "
      ]
     },
     "execution_count": 11,
     "metadata": {},
     "output_type": "execute_result"
    }
   ],
   "source": [
    "lat_long.head()"
   ]
  },
  {
   "cell_type": "code",
   "execution_count": 14,
   "metadata": {},
   "outputs": [],
   "source": [
    "with engine.connect() as conn, conn.begin():\n",
    "    lat_long.to_sql(name='app_location', con=conn, if_exists='append', index=False)"
   ]
  },
  {
   "cell_type": "markdown",
   "metadata": {},
   "source": [
    "# Scratch"
   ]
  },
  {
   "cell_type": "markdown",
   "metadata": {},
   "source": [
    "This is the old way of doing things - `pandas` does not support it\n",
    "\n",
    "`import MySQLdb`\n",
    "\n",
    "`conn = MySQLdb.connect(host='localhost', user='root', password='')\n",
    "cursor = conn.cursor()\n",
    "cursor.execute('show databases')\n",
    "for database in cursor:\n",
    "    print(database)\n",
    "cursor.execute('use parkzen')\n",
    "cursor.execute('desc app_location')\n",
    "for location in cursor:\n",
    "    print(location)`"
   ]
  }
 ],
 "metadata": {
  "kernelspec": {
   "display_name": "Python 3",
   "language": "python",
   "name": "python3"
  },
  "language_info": {
   "codemirror_mode": {
    "name": "ipython",
    "version": 3
   },
   "file_extension": ".py",
   "mimetype": "text/x-python",
   "name": "python",
   "nbconvert_exporter": "python",
   "pygments_lexer": "ipython3",
   "version": "3.5.2"
  }
 },
 "nbformat": 4,
 "nbformat_minor": 2
}
