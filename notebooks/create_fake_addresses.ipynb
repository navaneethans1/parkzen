{
 "cells": [
  {
   "cell_type": "code",
   "execution_count": 1,
   "metadata": {},
   "outputs": [],
   "source": [
    "import pandas as pd\n",
    "import sqlite3\n",
    "from sqlalchemy import create_engine\n",
    "import random\n",
    "import datetime"
   ]
  },
  {
   "cell_type": "code",
   "execution_count": 2,
   "metadata": {},
   "outputs": [],
   "source": [
    "pd.options.display.max_colwidth = 50"
   ]
  },
  {
   "cell_type": "code",
   "execution_count": 23,
   "metadata": {},
   "outputs": [],
   "source": [
    "engine = create_engine(\"mysql://root@localhost/parkzen\")"
   ]
  },
  {
   "cell_type": "code",
   "execution_count": 4,
   "metadata": {},
   "outputs": [],
   "source": [
    "with engine.connect() as conn, conn.begin():\n",
    "    lat_lon = pd.read_sql_table(table_name='app_location', con=conn)"
   ]
  },
  {
   "cell_type": "code",
   "execution_count": 5,
   "metadata": {},
   "outputs": [
    {
     "data": {
      "text/plain": [
       "(50, 5)"
      ]
     },
     "execution_count": 5,
     "metadata": {},
     "output_type": "execute_result"
    }
   ],
   "source": [
    "lat_lon.shape"
   ]
  },
  {
   "cell_type": "code",
   "execution_count": 12,
   "metadata": {},
   "outputs": [],
   "source": [
    "def gen_random_address():\n",
    "    number = ['123', '12/3', '#77', '56 & 57', '49A', 'B32']\n",
    "    street = ['MG Road', 'Bannerghatta Road', 'Mysore Rd', 'Sampige Rd', 'Church St', 'Hosur Rd']\n",
    "    area = ['Jayanagar', 'Indiranagar', 'JP Nagar', 'Malleshwaram']\n",
    "    city = 'Bangalore'\n",
    "    pincode = ['560078', '560002', '560103', '560121']\n",
    "    address = ', '.join([\n",
    "        random.sample(population=number, k=1)[0], \n",
    "        random.sample(population=street, k=1)[0], \n",
    "        random.sample(population=area, k=1)[0],\n",
    "        city + ' ' + random.sample(population=pincode, k=1)[0]\n",
    "    ])\n",
    "    return address"
   ]
  },
  {
   "cell_type": "code",
   "execution_count": 13,
   "metadata": {},
   "outputs": [],
   "source": [
    "lat_lon['address'] = lat_lon['address'].apply(lambda a: gen_random_address())"
   ]
  },
  {
   "cell_type": "code",
   "execution_count": 30,
   "metadata": {},
   "outputs": [
    {
     "data": {
      "text/html": [
       "<div>\n",
       "<style scoped>\n",
       "    .dataframe tbody tr th:only-of-type {\n",
       "        vertical-align: middle;\n",
       "    }\n",
       "\n",
       "    .dataframe tbody tr th {\n",
       "        vertical-align: top;\n",
       "    }\n",
       "\n",
       "    .dataframe thead th {\n",
       "        text-align: right;\n",
       "    }\n",
       "</style>\n",
       "<table border=\"1\" class=\"dataframe\">\n",
       "  <thead>\n",
       "    <tr style=\"text-align: right;\">\n",
       "      <th></th>\n",
       "      <th>lat</th>\n",
       "      <th>lon</th>\n",
       "      <th>user_id</th>\n",
       "      <th>address</th>\n",
       "    </tr>\n",
       "  </thead>\n",
       "  <tbody>\n",
       "    <tr>\n",
       "      <th>0</th>\n",
       "      <td>12.907909</td>\n",
       "      <td>77.607073</td>\n",
       "      <td>2</td>\n",
       "      <td>56 &amp; 57, Mysore Rd, Jayanagar, Bangalore 560121</td>\n",
       "    </tr>\n",
       "    <tr>\n",
       "      <th>1</th>\n",
       "      <td>12.907506</td>\n",
       "      <td>77.607736</td>\n",
       "      <td>3</td>\n",
       "      <td>56 &amp; 57, Mysore Rd, Indiranagar, Bangalore 560078</td>\n",
       "    </tr>\n",
       "    <tr>\n",
       "      <th>2</th>\n",
       "      <td>12.912361</td>\n",
       "      <td>77.602853</td>\n",
       "      <td>1</td>\n",
       "      <td>B32, Sampige Rd, Malleshwaram, Bangalore 560103</td>\n",
       "    </tr>\n",
       "    <tr>\n",
       "      <th>3</th>\n",
       "      <td>12.906575</td>\n",
       "      <td>77.602821</td>\n",
       "      <td>3</td>\n",
       "      <td>56 &amp; 57, Sampige Rd, Malleshwaram, Bangalore 5...</td>\n",
       "    </tr>\n",
       "    <tr>\n",
       "      <th>4</th>\n",
       "      <td>12.911095</td>\n",
       "      <td>77.599719</td>\n",
       "      <td>1</td>\n",
       "      <td>123, Mysore Rd, JP Nagar, Bangalore 560078</td>\n",
       "    </tr>\n",
       "  </tbody>\n",
       "</table>\n",
       "</div>"
      ],
      "text/plain": [
       "         lat        lon  user_id  \\\n",
       "0  12.907909  77.607073        2   \n",
       "1  12.907506  77.607736        3   \n",
       "2  12.912361  77.602853        1   \n",
       "3  12.906575  77.602821        3   \n",
       "4  12.911095  77.599719        1   \n",
       "\n",
       "                                             address  \n",
       "0    56 & 57, Mysore Rd, Jayanagar, Bangalore 560121  \n",
       "1  56 & 57, Mysore Rd, Indiranagar, Bangalore 560078  \n",
       "2    B32, Sampige Rd, Malleshwaram, Bangalore 560103  \n",
       "3  56 & 57, Sampige Rd, Malleshwaram, Bangalore 5...  \n",
       "4         123, Mysore Rd, JP Nagar, Bangalore 560078  "
      ]
     },
     "execution_count": 30,
     "metadata": {},
     "output_type": "execute_result"
    }
   ],
   "source": [
    "lat_lon.head()"
   ]
  },
  {
   "cell_type": "code",
   "execution_count": 28,
   "metadata": {},
   "outputs": [],
   "source": [
    "lat_lon.drop(labels='id', inplace=True, axis=1)"
   ]
  },
  {
   "cell_type": "code",
   "execution_count": 32,
   "metadata": {},
   "outputs": [],
   "source": [
    "lat_lon2 = lat_lon[['user_id', 'lat', 'lon', 'address']]"
   ]
  },
  {
   "cell_type": "code",
   "execution_count": 35,
   "metadata": {},
   "outputs": [],
   "source": [
    "with engine.connect() as conn, conn.begin():\n",
    "    lat_lon2.to_sql(name='app_location', con=conn, if_exists='append', index=False)"
   ]
  },
  {
   "cell_type": "code",
   "execution_count": 28,
   "metadata": {},
   "outputs": [],
   "source": [
    "lat_lon.drop(labels='id', inplace=True, axis=1)"
   ]
  },
  {
   "cell_type": "code",
   "execution_count": 17,
   "metadata": {},
   "outputs": [],
   "source": [
    "lat_lon.to_sql?"
   ]
  },
  {
   "cell_type": "code",
   "execution_count": 21,
   "metadata": {},
   "outputs": [],
   "source": [
    "with engine.connect() as conn, conn.begin():\n",
    "    users = pd.read_sql_table(table_name='auth_user', con=conn)"
   ]
  },
  {
   "cell_type": "code",
   "execution_count": 25,
   "metadata": {},
   "outputs": [
    {
     "data": {
      "text/html": [
       "<div>\n",
       "<style scoped>\n",
       "    .dataframe tbody tr th:only-of-type {\n",
       "        vertical-align: middle;\n",
       "    }\n",
       "\n",
       "    .dataframe tbody tr th {\n",
       "        vertical-align: top;\n",
       "    }\n",
       "\n",
       "    .dataframe thead th {\n",
       "        text-align: right;\n",
       "    }\n",
       "</style>\n",
       "<table border=\"1\" class=\"dataframe\">\n",
       "  <thead>\n",
       "    <tr style=\"text-align: right;\">\n",
       "      <th></th>\n",
       "      <th>id</th>\n",
       "      <th>password</th>\n",
       "      <th>last_login</th>\n",
       "      <th>is_superuser</th>\n",
       "      <th>username</th>\n",
       "      <th>first_name</th>\n",
       "      <th>last_name</th>\n",
       "      <th>email</th>\n",
       "      <th>is_staff</th>\n",
       "      <th>is_active</th>\n",
       "      <th>date_joined</th>\n",
       "    </tr>\n",
       "  </thead>\n",
       "  <tbody>\n",
       "    <tr>\n",
       "      <th>0</th>\n",
       "      <td>1</td>\n",
       "      <td>pbkdf2_sha256$100000$mMR4QmyIZ7A4$i2a8/l0ZvzPA...</td>\n",
       "      <td>2018-05-05 08:39:27.772542</td>\n",
       "      <td>1</td>\n",
       "      <td>navaneethan</td>\n",
       "      <td></td>\n",
       "      <td></td>\n",
       "      <td></td>\n",
       "      <td>1</td>\n",
       "      <td>1</td>\n",
       "      <td>2018-05-05 08:39:07.685361</td>\n",
       "    </tr>\n",
       "    <tr>\n",
       "      <th>1</th>\n",
       "      <td>2</td>\n",
       "      <td>pbkdf2_sha256$100000$Ej8iMPPaqMuP$fQnz1tnOD5Lq...</td>\n",
       "      <td>NaT</td>\n",
       "      <td>0</td>\n",
       "      <td>ankit</td>\n",
       "      <td></td>\n",
       "      <td></td>\n",
       "      <td></td>\n",
       "      <td>0</td>\n",
       "      <td>1</td>\n",
       "      <td>2018-05-05 08:39:43.404826</td>\n",
       "    </tr>\n",
       "    <tr>\n",
       "      <th>2</th>\n",
       "      <td>3</td>\n",
       "      <td>pbkdf2_sha256$100000$OPPxp8HYFZbG$blxWz460JopK...</td>\n",
       "      <td>NaT</td>\n",
       "      <td>0</td>\n",
       "      <td>hruthika</td>\n",
       "      <td></td>\n",
       "      <td></td>\n",
       "      <td></td>\n",
       "      <td>0</td>\n",
       "      <td>1</td>\n",
       "      <td>2018-05-05 08:39:56.681942</td>\n",
       "    </tr>\n",
       "  </tbody>\n",
       "</table>\n",
       "</div>"
      ],
      "text/plain": [
       "   id                                           password  \\\n",
       "0   1  pbkdf2_sha256$100000$mMR4QmyIZ7A4$i2a8/l0ZvzPA...   \n",
       "1   2  pbkdf2_sha256$100000$Ej8iMPPaqMuP$fQnz1tnOD5Lq...   \n",
       "2   3  pbkdf2_sha256$100000$OPPxp8HYFZbG$blxWz460JopK...   \n",
       "\n",
       "                  last_login  is_superuser     username first_name last_name  \\\n",
       "0 2018-05-05 08:39:27.772542             1  navaneethan                        \n",
       "1                        NaT             0        ankit                        \n",
       "2                        NaT             0     hruthika                        \n",
       "\n",
       "  email  is_staff  is_active                date_joined  \n",
       "0               1          1 2018-05-05 08:39:07.685361  \n",
       "1               0          1 2018-05-05 08:39:43.404826  \n",
       "2               0          1 2018-05-05 08:39:56.681942  "
      ]
     },
     "execution_count": 25,
     "metadata": {},
     "output_type": "execute_result"
    }
   ],
   "source": [
    "users"
   ]
  },
  {
   "cell_type": "code",
   "execution_count": 34,
   "metadata": {},
   "outputs": [],
   "source": [
    "with engine.connect() as conn, conn.begin():\n",
    "    users.to_sql(name='auth_user', con=conn, if_exists='append', index=False)"
   ]
  },
  {
   "cell_type": "code",
   "execution_count": null,
   "metadata": {},
   "outputs": [],
   "source": []
  }
 ],
 "metadata": {
  "kernelspec": {
   "display_name": "Python 3",
   "language": "python",
   "name": "python3"
  },
  "language_info": {
   "codemirror_mode": {
    "name": "ipython",
    "version": 3
   },
   "file_extension": ".py",
   "mimetype": "text/x-python",
   "name": "python",
   "nbconvert_exporter": "python",
   "pygments_lexer": "ipython3",
   "version": "3.5.2"
  }
 },
 "nbformat": 4,
 "nbformat_minor": 2
}
